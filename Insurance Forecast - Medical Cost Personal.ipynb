{
 "cells": [
  {
   "cell_type": "markdown",
   "id": "d99ca756",
   "metadata": {},
   "source": [
    "## Insurance Forecast - Medical Cost Personal \n",
    "\n",
    "Dataset obtained from Kaggle at https://www.kaggle.com/datasets/mirichoi0218/insurance\n",
    "\n",
    "- sex: insurance contractor gender, female, male\n",
    "- bmi: Body mass index, providing an understanding of body, weights that are relatively high or low relative to height, objective index of body weight (kg / m ^ 2) using the ratio of height to weight, ideally 18.5 to 24.9\n",
    "- children: Number of children covered by health insurance / Number of dependents\n",
    "- smoker: Smoking\n",
    "- region: the beneficiary's residential area in the US, northeast, southeast, southwest, northwest.\n",
    "- charges: Individual medical costs billed by health insurance"
   ]
  },
  {
   "cell_type": "code",
   "execution_count": 295,
   "id": "211efd0f",
   "metadata": {},
   "outputs": [],
   "source": [
    "import pandas as pd"
   ]
  },
  {
   "cell_type": "code",
   "execution_count": 296,
   "id": "bb21a1fb",
   "metadata": {},
   "outputs": [],
   "source": [
    "medical_cost_df = pd.read_csv('data/insurance.csv')"
   ]
  },
  {
   "cell_type": "markdown",
   "id": "708c439c",
   "metadata": {},
   "source": [
    "## DATA ANALYSIS"
   ]
  },
  {
   "cell_type": "code",
   "execution_count": 297,
   "id": "2ae093ab",
   "metadata": {},
   "outputs": [
    {
     "name": "stdout",
     "output_type": "stream",
     "text": [
      "<class 'pandas.core.frame.DataFrame'>\n",
      "RangeIndex: 1338 entries, 0 to 1337\n",
      "Data columns (total 7 columns):\n",
      " #   Column    Non-Null Count  Dtype  \n",
      "---  ------    --------------  -----  \n",
      " 0   age       1338 non-null   int64  \n",
      " 1   sex       1338 non-null   object \n",
      " 2   bmi       1338 non-null   float64\n",
      " 3   children  1338 non-null   int64  \n",
      " 4   smoker    1338 non-null   object \n",
      " 5   region    1338 non-null   object \n",
      " 6   charges   1338 non-null   float64\n",
      "dtypes: float64(2), int64(2), object(3)\n",
      "memory usage: 73.3+ KB\n"
     ]
    }
   ],
   "source": [
    "medical_cost_df.info()"
   ]
  },
  {
   "cell_type": "code",
   "execution_count": 298,
   "id": "1b5d8a7a",
   "metadata": {},
   "outputs": [
    {
     "data": {
      "text/html": [
       "<div>\n",
       "<style scoped>\n",
       "    .dataframe tbody tr th:only-of-type {\n",
       "        vertical-align: middle;\n",
       "    }\n",
       "\n",
       "    .dataframe tbody tr th {\n",
       "        vertical-align: top;\n",
       "    }\n",
       "\n",
       "    .dataframe thead th {\n",
       "        text-align: right;\n",
       "    }\n",
       "</style>\n",
       "<table border=\"1\" class=\"dataframe\">\n",
       "  <thead>\n",
       "    <tr style=\"text-align: right;\">\n",
       "      <th></th>\n",
       "      <th>age</th>\n",
       "      <th>bmi</th>\n",
       "      <th>children</th>\n",
       "      <th>charges</th>\n",
       "    </tr>\n",
       "  </thead>\n",
       "  <tbody>\n",
       "    <tr>\n",
       "      <th>count</th>\n",
       "      <td>1338.000000</td>\n",
       "      <td>1338.000000</td>\n",
       "      <td>1338.000000</td>\n",
       "      <td>1338.000000</td>\n",
       "    </tr>\n",
       "    <tr>\n",
       "      <th>mean</th>\n",
       "      <td>39.207025</td>\n",
       "      <td>30.663397</td>\n",
       "      <td>1.094918</td>\n",
       "      <td>13270.422265</td>\n",
       "    </tr>\n",
       "    <tr>\n",
       "      <th>std</th>\n",
       "      <td>14.049960</td>\n",
       "      <td>6.098187</td>\n",
       "      <td>1.205493</td>\n",
       "      <td>12110.011237</td>\n",
       "    </tr>\n",
       "    <tr>\n",
       "      <th>min</th>\n",
       "      <td>18.000000</td>\n",
       "      <td>15.960000</td>\n",
       "      <td>0.000000</td>\n",
       "      <td>1121.873900</td>\n",
       "    </tr>\n",
       "    <tr>\n",
       "      <th>25%</th>\n",
       "      <td>27.000000</td>\n",
       "      <td>26.296250</td>\n",
       "      <td>0.000000</td>\n",
       "      <td>4740.287150</td>\n",
       "    </tr>\n",
       "    <tr>\n",
       "      <th>50%</th>\n",
       "      <td>39.000000</td>\n",
       "      <td>30.400000</td>\n",
       "      <td>1.000000</td>\n",
       "      <td>9382.033000</td>\n",
       "    </tr>\n",
       "    <tr>\n",
       "      <th>75%</th>\n",
       "      <td>51.000000</td>\n",
       "      <td>34.693750</td>\n",
       "      <td>2.000000</td>\n",
       "      <td>16639.912515</td>\n",
       "    </tr>\n",
       "    <tr>\n",
       "      <th>max</th>\n",
       "      <td>64.000000</td>\n",
       "      <td>53.130000</td>\n",
       "      <td>5.000000</td>\n",
       "      <td>63770.428010</td>\n",
       "    </tr>\n",
       "  </tbody>\n",
       "</table>\n",
       "</div>"
      ],
      "text/plain": [
       "               age          bmi     children       charges\n",
       "count  1338.000000  1338.000000  1338.000000   1338.000000\n",
       "mean     39.207025    30.663397     1.094918  13270.422265\n",
       "std      14.049960     6.098187     1.205493  12110.011237\n",
       "min      18.000000    15.960000     0.000000   1121.873900\n",
       "25%      27.000000    26.296250     0.000000   4740.287150\n",
       "50%      39.000000    30.400000     1.000000   9382.033000\n",
       "75%      51.000000    34.693750     2.000000  16639.912515\n",
       "max      64.000000    53.130000     5.000000  63770.428010"
      ]
     },
     "execution_count": 298,
     "metadata": {},
     "output_type": "execute_result"
    }
   ],
   "source": [
    "medical_cost_df.describe()"
   ]
  },
  {
   "cell_type": "code",
   "execution_count": 299,
   "id": "96d99b84",
   "metadata": {},
   "outputs": [
    {
     "data": {
      "text/plain": [
       "age         1338\n",
       "sex         1338\n",
       "bmi         1338\n",
       "children    1338\n",
       "smoker      1338\n",
       "region      1338\n",
       "charges     1338\n",
       "dtype: int64"
      ]
     },
     "execution_count": 299,
     "metadata": {},
     "output_type": "execute_result"
    }
   ],
   "source": [
    "medical_cost_df.notna().sum()"
   ]
  },
  {
   "cell_type": "code",
   "execution_count": 300,
   "id": "25cec92c",
   "metadata": {},
   "outputs": [
    {
     "data": {
      "text/plain": [
       "age         0\n",
       "sex         0\n",
       "bmi         0\n",
       "children    0\n",
       "smoker      0\n",
       "region      0\n",
       "charges     0\n",
       "dtype: int64"
      ]
     },
     "execution_count": 300,
     "metadata": {},
     "output_type": "execute_result"
    }
   ],
   "source": [
    "medical_cost_df.isnull().sum()"
   ]
  },
  {
   "cell_type": "markdown",
   "id": "dda6f144",
   "metadata": {},
   "source": [
    "## Must get low cardinality categorical data"
   ]
  },
  {
   "cell_type": "code",
   "execution_count": 301,
   "id": "52bdbbdb",
   "metadata": {},
   "outputs": [],
   "source": [
    "categorical_cols \\\n",
    "    = [cat_cols for cat_cols in medical_cost_df.columns \\\n",
    "       if medical_cost_df[cat_cols].dtype == 'object' and medical_cost_df[cat_cols].nunique() <= 10]"
   ]
  },
  {
   "cell_type": "code",
   "execution_count": 302,
   "id": "e0fbdf83",
   "metadata": {},
   "outputs": [
    {
     "data": {
      "text/plain": [
       "['sex', 'smoker', 'region']"
      ]
     },
     "execution_count": 302,
     "metadata": {},
     "output_type": "execute_result"
    }
   ],
   "source": [
    "categorical_cols"
   ]
  },
  {
   "cell_type": "code",
   "execution_count": 303,
   "id": "a2c52e72",
   "metadata": {},
   "outputs": [],
   "source": [
    "numerical_cols = [num_cols for num_cols in medical_cost_df.columns if medical_cost_df[num_cols].dtype != 'object']"
   ]
  },
  {
   "cell_type": "code",
   "execution_count": 304,
   "id": "047728f7",
   "metadata": {},
   "outputs": [
    {
     "data": {
      "text/plain": [
       "['age', 'bmi', 'children', 'charges']"
      ]
     },
     "execution_count": 304,
     "metadata": {},
     "output_type": "execute_result"
    }
   ],
   "source": [
    "numerical_cols"
   ]
  },
  {
   "cell_type": "code",
   "execution_count": 305,
   "id": "b5127586",
   "metadata": {},
   "outputs": [],
   "source": [
    "target_col = 'charges'"
   ]
  },
  {
   "cell_type": "markdown",
   "id": "0515c07d",
   "metadata": {},
   "source": [
    "## DATA VISUALIZATION"
   ]
  },
  {
   "cell_type": "code",
   "execution_count": 306,
   "id": "fbe90257",
   "metadata": {},
   "outputs": [],
   "source": [
    "import seaborn as sns"
   ]
  },
  {
   "cell_type": "code",
   "execution_count": 307,
   "id": "45119343",
   "metadata": {},
   "outputs": [
    {
     "data": {
      "text/plain": [
       "<AxesSubplot:xlabel='region', ylabel='charges'>"
      ]
     },
     "execution_count": 307,
     "metadata": {},
     "output_type": "execute_result"
    },
    {
     "data": {
      "image/png": "[encoded data removed]",
      "text/plain": [
       "<Figure size 432x288 with 1 Axes>"
      ]
     },
     "metadata": {
      "needs_background": "light"
     },
     "output_type": "display_data"
    }
   ],
   "source": [
    "sns.barplot(data=medical_cost_df, x='region', y='charges', hue='sex')"
   ]
  },
  {
   "cell_type": "code",
   "execution_count": 308,
   "id": "38defbdb",
   "metadata": {},
   "outputs": [
    {
     "data": {
      "text/plain": [
       "<AxesSubplot:xlabel='smoker', ylabel='charges'>"
      ]
     },
     "execution_count": 308,
     "metadata": {},
     "output_type": "execute_result"
    },
    {
     "data": {
      "image/png": "[encoded data removed]",
      "text/plain": [
       "<Figure size 432x288 with 1 Axes>"
      ]
     },
     "metadata": {
      "needs_background": "light"
     },
     "output_type": "display_data"
    }
   ],
   "source": [
    "sns.barplot(data=medical_cost_df, x='smoker', y='charges', hue='sex')"
   ]
  },
  {
   "cell_type": "code",
   "execution_count": 309,
   "id": "c9aea224",
   "metadata": {},
   "outputs": [
    {
     "data": {
      "text/html": [
       "<div>\n",
       "<style scoped>\n",
       "    .dataframe tbody tr th:only-of-type {\n",
       "        vertical-align: middle;\n",
       "    }\n",
       "\n",
       "    .dataframe tbody tr th {\n",
       "        vertical-align: top;\n",
       "    }\n",
       "\n",
       "    .dataframe thead th {\n",
       "        text-align: right;\n",
       "    }\n",
       "</style>\n",
       "<table border=\"1\" class=\"dataframe\">\n",
       "  <thead>\n",
       "    <tr style=\"text-align: right;\">\n",
       "      <th></th>\n",
       "      <th>age</th>\n",
       "      <th>sex</th>\n",
       "      <th>bmi</th>\n",
       "      <th>children</th>\n",
       "      <th>smoker</th>\n",
       "      <th>region</th>\n",
       "      <th>charges</th>\n",
       "    </tr>\n",
       "  </thead>\n",
       "  <tbody>\n",
       "    <tr>\n",
       "      <th>0</th>\n",
       "      <td>19</td>\n",
       "      <td>female</td>\n",
       "      <td>27.900</td>\n",
       "      <td>0</td>\n",
       "      <td>yes</td>\n",
       "      <td>southwest</td>\n",
       "      <td>16884.92400</td>\n",
       "    </tr>\n",
       "    <tr>\n",
       "      <th>1</th>\n",
       "      <td>18</td>\n",
       "      <td>male</td>\n",
       "      <td>33.770</td>\n",
       "      <td>1</td>\n",
       "      <td>no</td>\n",
       "      <td>southeast</td>\n",
       "      <td>1725.55230</td>\n",
       "    </tr>\n",
       "    <tr>\n",
       "      <th>2</th>\n",
       "      <td>28</td>\n",
       "      <td>male</td>\n",
       "      <td>33.000</td>\n",
       "      <td>3</td>\n",
       "      <td>no</td>\n",
       "      <td>southeast</td>\n",
       "      <td>4449.46200</td>\n",
       "    </tr>\n",
       "    <tr>\n",
       "      <th>3</th>\n",
       "      <td>33</td>\n",
       "      <td>male</td>\n",
       "      <td>22.705</td>\n",
       "      <td>0</td>\n",
       "      <td>no</td>\n",
       "      <td>northwest</td>\n",
       "      <td>21984.47061</td>\n",
       "    </tr>\n",
       "    <tr>\n",
       "      <th>4</th>\n",
       "      <td>32</td>\n",
       "      <td>male</td>\n",
       "      <td>28.880</td>\n",
       "      <td>0</td>\n",
       "      <td>no</td>\n",
       "      <td>northwest</td>\n",
       "      <td>3866.85520</td>\n",
       "    </tr>\n",
       "    <tr>\n",
       "      <th>...</th>\n",
       "      <td>...</td>\n",
       "      <td>...</td>\n",
       "      <td>...</td>\n",
       "      <td>...</td>\n",
       "      <td>...</td>\n",
       "      <td>...</td>\n",
       "      <td>...</td>\n",
       "    </tr>\n",
       "    <tr>\n",
       "      <th>1333</th>\n",
       "      <td>50</td>\n",
       "      <td>male</td>\n",
       "      <td>30.970</td>\n",
       "      <td>3</td>\n",
       "      <td>no</td>\n",
       "      <td>northwest</td>\n",
       "      <td>10600.54830</td>\n",
       "    </tr>\n",
       "    <tr>\n",
       "      <th>1334</th>\n",
       "      <td>18</td>\n",
       "      <td>female</td>\n",
       "      <td>31.920</td>\n",
       "      <td>0</td>\n",
       "      <td>no</td>\n",
       "      <td>northeast</td>\n",
       "      <td>2205.98080</td>\n",
       "    </tr>\n",
       "    <tr>\n",
       "      <th>1335</th>\n",
       "      <td>18</td>\n",
       "      <td>female</td>\n",
       "      <td>36.850</td>\n",
       "      <td>0</td>\n",
       "      <td>no</td>\n",
       "      <td>southeast</td>\n",
       "      <td>1629.83350</td>\n",
       "    </tr>\n",
       "    <tr>\n",
       "      <th>1336</th>\n",
       "      <td>21</td>\n",
       "      <td>female</td>\n",
       "      <td>25.800</td>\n",
       "      <td>0</td>\n",
       "      <td>no</td>\n",
       "      <td>southwest</td>\n",
       "      <td>2007.94500</td>\n",
       "    </tr>\n",
       "    <tr>\n",
       "      <th>1337</th>\n",
       "      <td>61</td>\n",
       "      <td>female</td>\n",
       "      <td>29.070</td>\n",
       "      <td>0</td>\n",
       "      <td>yes</td>\n",
       "      <td>northwest</td>\n",
       "      <td>29141.36030</td>\n",
       "    </tr>\n",
       "  </tbody>\n",
       "</table>\n",
       "<p>1338 rows × 7 columns</p>\n",
       "</div>"
      ],
      "text/plain": [
       "      age     sex     bmi  children smoker     region      charges\n",
       "0      19  female  27.900         0    yes  southwest  16884.92400\n",
       "1      18    male  33.770         1     no  southeast   1725.55230\n",
       "2      28    male  33.000         3     no  southeast   4449.46200\n",
       "3      33    male  22.705         0     no  northwest  21984.47061\n",
       "4      32    male  28.880         0     no  northwest   3866.85520\n",
       "...   ...     ...     ...       ...    ...        ...          ...\n",
       "1333   50    male  30.970         3     no  northwest  10600.54830\n",
       "1334   18  female  31.920         0     no  northeast   2205.98080\n",
       "1335   18  female  36.850         0     no  southeast   1629.83350\n",
       "1336   21  female  25.800         0     no  southwest   2007.94500\n",
       "1337   61  female  29.070         0    yes  northwest  29141.36030\n",
       "\n",
       "[1338 rows x 7 columns]"
      ]
     },
     "execution_count": 309,
     "metadata": {},
     "output_type": "execute_result"
    }
   ],
   "source": [
    "medical_cost_df"
   ]
  },
  {
   "cell_type": "code",
   "execution_count": 310,
   "id": "024c6f1c",
   "metadata": {},
   "outputs": [
    {
     "data": {
      "image/png": "[encoded data removed]",
      "text/plain": [
       "<Figure size 432x288 with 2 Axes>"
      ]
     },
     "metadata": {
      "needs_background": "light"
     },
     "output_type": "display_data"
    }
   ],
   "source": [
    "sns.heatmap(data=medical_cost_df.corr(), annot=True);"
   ]
  },
  {
   "cell_type": "code",
   "execution_count": 311,
   "id": "fdf0fc18",
   "metadata": {},
   "outputs": [
    {
     "data": {
      "text/plain": [
       "<AxesSubplot:xlabel='bmi', ylabel='charges'>"
      ]
     },
     "execution_count": 311,
     "metadata": {},
     "output_type": "execute_result"
    },
    {
     "data": {
      "image/png": "[encoded data removed]",
      "text/plain": [
       "<Figure size 432x288 with 1 Axes>"
      ]
     },
     "metadata": {
      "needs_background": "light"
     },
     "output_type": "display_data"
    }
   ],
   "source": [
    "sns.lineplot(data=medical_cost_df, x=\"bmi\", y=\"charges\")"
   ]
  },
  {
   "cell_type": "code",
   "execution_count": 312,
   "id": "3b15debb",
   "metadata": {},
   "outputs": [
    {
     "data": {
      "text/plain": [
       "<AxesSubplot:xlabel='age', ylabel='charges'>"
      ]
     },
     "execution_count": 312,
     "metadata": {},
     "output_type": "execute_result"
    },
    {
     "data": {
      "image/png": "[encoded data removed]",
      "text/plain": [
       "<Figure size 432x288 with 1 Axes>"
      ]
     },
     "metadata": {
      "needs_background": "light"
     },
     "output_type": "display_data"
    }
   ],
   "source": [
    "sns.lineplot(data=medical_cost_df, x=\"age\", y=\"charges\")"
   ]
  },
  {
   "cell_type": "code",
   "execution_count": 313,
   "id": "4b33c31a",
   "metadata": {},
   "outputs": [
    {
     "data": {
      "text/plain": [
       "<AxesSubplot:xlabel='children', ylabel='charges'>"
      ]
     },
     "execution_count": 313,
     "metadata": {},
     "output_type": "execute_result"
    },
    {
     "data": {
      "image/png": "[encoded data removed]",
      "text/plain": [
       "<Figure size 432x288 with 1 Axes>"
      ]
     },
     "metadata": {
      "needs_background": "light"
     },
     "output_type": "display_data"
    }
   ],
   "source": [
    "sns.lineplot(data=medical_cost_df, x=\"children\", y=\"charges\")"
   ]
  },
  {
   "cell_type": "markdown",
   "id": "d02159ed",
   "metadata": {},
   "source": [
    "## Must split data into train and test"
   ]
  },
  {
   "cell_type": "code",
   "execution_count": 314,
   "id": "bdf1789c",
   "metadata": {},
   "outputs": [],
   "source": [
    "X_train = medical_cost_df.sample(frac=0.8, random_state=40)\n",
    "X_test = medical_cost_df.drop(X_train.index)"
   ]
  },
  {
   "cell_type": "code",
   "execution_count": 315,
   "id": "564b0f07",
   "metadata": {},
   "outputs": [
    {
     "name": "stdout",
     "output_type": "stream",
     "text": [
      "X_train number of samples: 1070\n",
      "X_test number of samples: 268\n"
     ]
    }
   ],
   "source": [
    "print('X_train number of samples: {}\\nX_test number of samples: {}'.format(X_train.shape[0], X_test.shape[0]))"
   ]
  },
  {
   "cell_type": "code",
   "execution_count": 316,
   "id": "b93f70d8",
   "metadata": {},
   "outputs": [],
   "source": [
    "y_train = X_train[target_col]\n",
    "X_train.drop(target_col, axis=1, inplace=True)\n",
    "y_test = X_test[target_col]\n",
    "X_test.drop(target_col, axis=1, inplace=True)"
   ]
  },
  {
   "cell_type": "code",
   "execution_count": 317,
   "id": "acff5314",
   "metadata": {},
   "outputs": [
    {
     "name": "stdout",
     "output_type": "stream",
     "text": [
      "y_train number of samples: 1070\n",
      "y_test number of samples: 268\n"
     ]
    }
   ],
   "source": [
    "print('y_train number of samples: {}\\ny_test number of samples: {}'.format(y_train.shape[0], y_test.shape[0]))"
   ]
  },
  {
   "cell_type": "markdown",
   "id": "fd1960f6",
   "metadata": {},
   "source": [
    "## Must transform categorical data"
   ]
  },
  {
   "cell_type": "code",
   "execution_count": 318,
   "id": "49393f69",
   "metadata": {},
   "outputs": [],
   "source": [
    "from sklearn.preprocessing import OneHotEncoder\n",
    "ohe = OneHotEncoder(sparse=False, handle_unknown='ignore')"
   ]
  },
  {
   "cell_type": "code",
   "execution_count": 319,
   "id": "fb50a893",
   "metadata": {},
   "outputs": [],
   "source": [
    "# X_train = pd.get_dummies(X_train, categorical_cols, drop_first=True)\n",
    "ohe_train = pd.DataFrame(ohe.fit_transform(X_train[categorical_cols]))\n",
    "ohe_test = pd.DataFrame(ohe.transform(X_test[categorical_cols]));"
   ]
  },
  {
   "cell_type": "code",
   "execution_count": 320,
   "id": "8e8debd6",
   "metadata": {},
   "outputs": [
    {
     "data": {
      "text/html": [
       "<div>\n",
       "<style scoped>\n",
       "    .dataframe tbody tr th:only-of-type {\n",
       "        vertical-align: middle;\n",
       "    }\n",
       "\n",
       "    .dataframe tbody tr th {\n",
       "        vertical-align: top;\n",
       "    }\n",
       "\n",
       "    .dataframe thead th {\n",
       "        text-align: right;\n",
       "    }\n",
       "</style>\n",
       "<table border=\"1\" class=\"dataframe\">\n",
       "  <thead>\n",
       "    <tr style=\"text-align: right;\">\n",
       "      <th></th>\n",
       "      <th>age</th>\n",
       "      <th>sex</th>\n",
       "      <th>bmi</th>\n",
       "      <th>children</th>\n",
       "      <th>smoker</th>\n",
       "      <th>region</th>\n",
       "    </tr>\n",
       "  </thead>\n",
       "  <tbody>\n",
       "    <tr>\n",
       "      <th>1099</th>\n",
       "      <td>25</td>\n",
       "      <td>female</td>\n",
       "      <td>33.99</td>\n",
       "      <td>1</td>\n",
       "      <td>no</td>\n",
       "      <td>southeast</td>\n",
       "    </tr>\n",
       "    <tr>\n",
       "      <th>759</th>\n",
       "      <td>18</td>\n",
       "      <td>male</td>\n",
       "      <td>38.17</td>\n",
       "      <td>0</td>\n",
       "      <td>yes</td>\n",
       "      <td>southeast</td>\n",
       "    </tr>\n",
       "    <tr>\n",
       "      <th>215</th>\n",
       "      <td>41</td>\n",
       "      <td>female</td>\n",
       "      <td>37.10</td>\n",
       "      <td>2</td>\n",
       "      <td>no</td>\n",
       "      <td>southwest</td>\n",
       "    </tr>\n",
       "    <tr>\n",
       "      <th>903</th>\n",
       "      <td>49</td>\n",
       "      <td>male</td>\n",
       "      <td>36.85</td>\n",
       "      <td>0</td>\n",
       "      <td>no</td>\n",
       "      <td>southeast</td>\n",
       "    </tr>\n",
       "    <tr>\n",
       "      <th>989</th>\n",
       "      <td>24</td>\n",
       "      <td>female</td>\n",
       "      <td>20.52</td>\n",
       "      <td>0</td>\n",
       "      <td>yes</td>\n",
       "      <td>northeast</td>\n",
       "    </tr>\n",
       "  </tbody>\n",
       "</table>\n",
       "</div>"
      ],
      "text/plain": [
       "      age     sex    bmi  children smoker     region\n",
       "1099   25  female  33.99         1     no  southeast\n",
       "759    18    male  38.17         0    yes  southeast\n",
       "215    41  female  37.10         2     no  southwest\n",
       "903    49    male  36.85         0     no  southeast\n",
       "989    24  female  20.52         0    yes  northeast"
      ]
     },
     "execution_count": 320,
     "metadata": {},
     "output_type": "execute_result"
    }
   ],
   "source": [
    "X_train.head()"
   ]
  },
  {
   "cell_type": "code",
   "execution_count": 321,
   "id": "df2bfedd",
   "metadata": {},
   "outputs": [],
   "source": [
    "# ohe removes index\n",
    "ohe_train.index = X_train.index\n",
    "ohe_test.index = X_test.index"
   ]
  },
  {
   "cell_type": "code",
   "execution_count": 322,
   "id": "7aa51462",
   "metadata": {},
   "outputs": [],
   "source": [
    "ohe_train.columns = ohe.get_feature_names_out()\n",
    "ohe_test.columns = ohe.get_feature_names_out()"
   ]
  },
  {
   "cell_type": "code",
   "execution_count": 323,
   "id": "55d58669",
   "metadata": {},
   "outputs": [
    {
     "data": {
      "text/html": [
       "<div>\n",
       "<style scoped>\n",
       "    .dataframe tbody tr th:only-of-type {\n",
       "        vertical-align: middle;\n",
       "    }\n",
       "\n",
       "    .dataframe tbody tr th {\n",
       "        vertical-align: top;\n",
       "    }\n",
       "\n",
       "    .dataframe thead th {\n",
       "        text-align: right;\n",
       "    }\n",
       "</style>\n",
       "<table border=\"1\" class=\"dataframe\">\n",
       "  <thead>\n",
       "    <tr style=\"text-align: right;\">\n",
       "      <th></th>\n",
       "      <th>sex_female</th>\n",
       "      <th>sex_male</th>\n",
       "      <th>smoker_no</th>\n",
       "      <th>smoker_yes</th>\n",
       "      <th>region_northeast</th>\n",
       "      <th>region_northwest</th>\n",
       "      <th>region_southeast</th>\n",
       "      <th>region_southwest</th>\n",
       "    </tr>\n",
       "  </thead>\n",
       "  <tbody>\n",
       "    <tr>\n",
       "      <th>1099</th>\n",
       "      <td>1.0</td>\n",
       "      <td>0.0</td>\n",
       "      <td>1.0</td>\n",
       "      <td>0.0</td>\n",
       "      <td>0.0</td>\n",
       "      <td>0.0</td>\n",
       "      <td>1.0</td>\n",
       "      <td>0.0</td>\n",
       "    </tr>\n",
       "    <tr>\n",
       "      <th>759</th>\n",
       "      <td>0.0</td>\n",
       "      <td>1.0</td>\n",
       "      <td>0.0</td>\n",
       "      <td>1.0</td>\n",
       "      <td>0.0</td>\n",
       "      <td>0.0</td>\n",
       "      <td>1.0</td>\n",
       "      <td>0.0</td>\n",
       "    </tr>\n",
       "    <tr>\n",
       "      <th>215</th>\n",
       "      <td>1.0</td>\n",
       "      <td>0.0</td>\n",
       "      <td>1.0</td>\n",
       "      <td>0.0</td>\n",
       "      <td>0.0</td>\n",
       "      <td>0.0</td>\n",
       "      <td>0.0</td>\n",
       "      <td>1.0</td>\n",
       "    </tr>\n",
       "    <tr>\n",
       "      <th>903</th>\n",
       "      <td>0.0</td>\n",
       "      <td>1.0</td>\n",
       "      <td>1.0</td>\n",
       "      <td>0.0</td>\n",
       "      <td>0.0</td>\n",
       "      <td>0.0</td>\n",
       "      <td>1.0</td>\n",
       "      <td>0.0</td>\n",
       "    </tr>\n",
       "    <tr>\n",
       "      <th>989</th>\n",
       "      <td>1.0</td>\n",
       "      <td>0.0</td>\n",
       "      <td>0.0</td>\n",
       "      <td>1.0</td>\n",
       "      <td>1.0</td>\n",
       "      <td>0.0</td>\n",
       "      <td>0.0</td>\n",
       "      <td>0.0</td>\n",
       "    </tr>\n",
       "  </tbody>\n",
       "</table>\n",
       "</div>"
      ],
      "text/plain": [
       "      sex_female  sex_male  smoker_no  smoker_yes  region_northeast  \\\n",
       "1099         1.0       0.0        1.0         0.0               0.0   \n",
       "759          0.0       1.0        0.0         1.0               0.0   \n",
       "215          1.0       0.0        1.0         0.0               0.0   \n",
       "903          0.0       1.0        1.0         0.0               0.0   \n",
       "989          1.0       0.0        0.0         1.0               1.0   \n",
       "\n",
       "      region_northwest  region_southeast  region_southwest  \n",
       "1099               0.0               1.0               0.0  \n",
       "759                0.0               1.0               0.0  \n",
       "215                0.0               0.0               1.0  \n",
       "903                0.0               1.0               0.0  \n",
       "989                0.0               0.0               0.0  "
      ]
     },
     "metadata": {},
     "output_type": "display_data"
    }
   ],
   "source": [
    "display(ohe_train.head())"
   ]
  },
  {
   "cell_type": "code",
   "execution_count": 324,
   "id": "5d2b41ae",
   "metadata": {},
   "outputs": [
    {
     "data": {
      "text/html": [
       "<div>\n",
       "<style scoped>\n",
       "    .dataframe tbody tr th:only-of-type {\n",
       "        vertical-align: middle;\n",
       "    }\n",
       "\n",
       "    .dataframe tbody tr th {\n",
       "        vertical-align: top;\n",
       "    }\n",
       "\n",
       "    .dataframe thead th {\n",
       "        text-align: right;\n",
       "    }\n",
       "</style>\n",
       "<table border=\"1\" class=\"dataframe\">\n",
       "  <thead>\n",
       "    <tr style=\"text-align: right;\">\n",
       "      <th></th>\n",
       "      <th>sex</th>\n",
       "      <th>smoker</th>\n",
       "      <th>region</th>\n",
       "    </tr>\n",
       "  </thead>\n",
       "  <tbody>\n",
       "    <tr>\n",
       "      <th>1099</th>\n",
       "      <td>female</td>\n",
       "      <td>no</td>\n",
       "      <td>southeast</td>\n",
       "    </tr>\n",
       "    <tr>\n",
       "      <th>759</th>\n",
       "      <td>male</td>\n",
       "      <td>yes</td>\n",
       "      <td>southeast</td>\n",
       "    </tr>\n",
       "    <tr>\n",
       "      <th>215</th>\n",
       "      <td>female</td>\n",
       "      <td>no</td>\n",
       "      <td>southwest</td>\n",
       "    </tr>\n",
       "    <tr>\n",
       "      <th>903</th>\n",
       "      <td>male</td>\n",
       "      <td>no</td>\n",
       "      <td>southeast</td>\n",
       "    </tr>\n",
       "    <tr>\n",
       "      <th>989</th>\n",
       "      <td>female</td>\n",
       "      <td>yes</td>\n",
       "      <td>northeast</td>\n",
       "    </tr>\n",
       "  </tbody>\n",
       "</table>\n",
       "</div>"
      ],
      "text/plain": [
       "         sex smoker     region\n",
       "1099  female     no  southeast\n",
       "759     male    yes  southeast\n",
       "215   female     no  southwest\n",
       "903     male     no  southeast\n",
       "989   female    yes  northeast"
      ]
     },
     "metadata": {},
     "output_type": "display_data"
    }
   ],
   "source": [
    "display(X_train[categorical_cols].head())"
   ]
  },
  {
   "cell_type": "code",
   "execution_count": 325,
   "id": "220fbe48",
   "metadata": {},
   "outputs": [],
   "source": [
    "X_train.drop(categorical_cols, axis=1, inplace=True)\n",
    "X_train = pd.concat([X_train, ohe_train], axis=1)"
   ]
  },
  {
   "cell_type": "code",
   "execution_count": 326,
   "id": "f5af29a2",
   "metadata": {},
   "outputs": [
    {
     "data": {
      "text/html": [
       "<div>\n",
       "<style scoped>\n",
       "    .dataframe tbody tr th:only-of-type {\n",
       "        vertical-align: middle;\n",
       "    }\n",
       "\n",
       "    .dataframe tbody tr th {\n",
       "        vertical-align: top;\n",
       "    }\n",
       "\n",
       "    .dataframe thead th {\n",
       "        text-align: right;\n",
       "    }\n",
       "</style>\n",
       "<table border=\"1\" class=\"dataframe\">\n",
       "  <thead>\n",
       "    <tr style=\"text-align: right;\">\n",
       "      <th></th>\n",
       "      <th>age</th>\n",
       "      <th>bmi</th>\n",
       "      <th>children</th>\n",
       "      <th>sex_female</th>\n",
       "      <th>sex_male</th>\n",
       "      <th>smoker_no</th>\n",
       "      <th>smoker_yes</th>\n",
       "      <th>region_northeast</th>\n",
       "      <th>region_northwest</th>\n",
       "      <th>region_southeast</th>\n",
       "      <th>region_southwest</th>\n",
       "    </tr>\n",
       "  </thead>\n",
       "  <tbody>\n",
       "    <tr>\n",
       "      <th>1099</th>\n",
       "      <td>25</td>\n",
       "      <td>33.99</td>\n",
       "      <td>1</td>\n",
       "      <td>1.0</td>\n",
       "      <td>0.0</td>\n",
       "      <td>1.0</td>\n",
       "      <td>0.0</td>\n",
       "      <td>0.0</td>\n",
       "      <td>0.0</td>\n",
       "      <td>1.0</td>\n",
       "      <td>0.0</td>\n",
       "    </tr>\n",
       "    <tr>\n",
       "      <th>759</th>\n",
       "      <td>18</td>\n",
       "      <td>38.17</td>\n",
       "      <td>0</td>\n",
       "      <td>0.0</td>\n",
       "      <td>1.0</td>\n",
       "      <td>0.0</td>\n",
       "      <td>1.0</td>\n",
       "      <td>0.0</td>\n",
       "      <td>0.0</td>\n",
       "      <td>1.0</td>\n",
       "      <td>0.0</td>\n",
       "    </tr>\n",
       "    <tr>\n",
       "      <th>215</th>\n",
       "      <td>41</td>\n",
       "      <td>37.10</td>\n",
       "      <td>2</td>\n",
       "      <td>1.0</td>\n",
       "      <td>0.0</td>\n",
       "      <td>1.0</td>\n",
       "      <td>0.0</td>\n",
       "      <td>0.0</td>\n",
       "      <td>0.0</td>\n",
       "      <td>0.0</td>\n",
       "      <td>1.0</td>\n",
       "    </tr>\n",
       "    <tr>\n",
       "      <th>903</th>\n",
       "      <td>49</td>\n",
       "      <td>36.85</td>\n",
       "      <td>0</td>\n",
       "      <td>0.0</td>\n",
       "      <td>1.0</td>\n",
       "      <td>1.0</td>\n",
       "      <td>0.0</td>\n",
       "      <td>0.0</td>\n",
       "      <td>0.0</td>\n",
       "      <td>1.0</td>\n",
       "      <td>0.0</td>\n",
       "    </tr>\n",
       "    <tr>\n",
       "      <th>989</th>\n",
       "      <td>24</td>\n",
       "      <td>20.52</td>\n",
       "      <td>0</td>\n",
       "      <td>1.0</td>\n",
       "      <td>0.0</td>\n",
       "      <td>0.0</td>\n",
       "      <td>1.0</td>\n",
       "      <td>1.0</td>\n",
       "      <td>0.0</td>\n",
       "      <td>0.0</td>\n",
       "      <td>0.0</td>\n",
       "    </tr>\n",
       "  </tbody>\n",
       "</table>\n",
       "</div>"
      ],
      "text/plain": [
       "      age    bmi  children  sex_female  sex_male  smoker_no  smoker_yes  \\\n",
       "1099   25  33.99         1         1.0       0.0        1.0         0.0   \n",
       "759    18  38.17         0         0.0       1.0        0.0         1.0   \n",
       "215    41  37.10         2         1.0       0.0        1.0         0.0   \n",
       "903    49  36.85         0         0.0       1.0        1.0         0.0   \n",
       "989    24  20.52         0         1.0       0.0        0.0         1.0   \n",
       "\n",
       "      region_northeast  region_northwest  region_southeast  region_southwest  \n",
       "1099               0.0               0.0               1.0               0.0  \n",
       "759                0.0               0.0               1.0               0.0  \n",
       "215                0.0               0.0               0.0               1.0  \n",
       "903                0.0               0.0               1.0               0.0  \n",
       "989                1.0               0.0               0.0               0.0  "
      ]
     },
     "execution_count": 326,
     "metadata": {},
     "output_type": "execute_result"
    }
   ],
   "source": [
    "X_train.head()"
   ]
  },
  {
   "cell_type": "code",
   "execution_count": 327,
   "id": "e3232f3b",
   "metadata": {},
   "outputs": [],
   "source": [
    "X_test.drop(categorical_cols, axis=1, inplace=True)\n",
    "X_test = pd.concat([X_test, ohe_test], axis=1)"
   ]
  },
  {
   "cell_type": "code",
   "execution_count": 328,
   "id": "e880180b",
   "metadata": {},
   "outputs": [
    {
     "data": {
      "text/html": [
       "<div>\n",
       "<style scoped>\n",
       "    .dataframe tbody tr th:only-of-type {\n",
       "        vertical-align: middle;\n",
       "    }\n",
       "\n",
       "    .dataframe tbody tr th {\n",
       "        vertical-align: top;\n",
       "    }\n",
       "\n",
       "    .dataframe thead th {\n",
       "        text-align: right;\n",
       "    }\n",
       "</style>\n",
       "<table border=\"1\" class=\"dataframe\">\n",
       "  <thead>\n",
       "    <tr style=\"text-align: right;\">\n",
       "      <th></th>\n",
       "      <th>age</th>\n",
       "      <th>bmi</th>\n",
       "      <th>children</th>\n",
       "      <th>sex_female</th>\n",
       "      <th>sex_male</th>\n",
       "      <th>smoker_no</th>\n",
       "      <th>smoker_yes</th>\n",
       "      <th>region_northeast</th>\n",
       "      <th>region_northwest</th>\n",
       "      <th>region_southeast</th>\n",
       "      <th>region_southwest</th>\n",
       "    </tr>\n",
       "  </thead>\n",
       "  <tbody>\n",
       "    <tr>\n",
       "      <th>7</th>\n",
       "      <td>37</td>\n",
       "      <td>27.740</td>\n",
       "      <td>3</td>\n",
       "      <td>1.0</td>\n",
       "      <td>0.0</td>\n",
       "      <td>1.0</td>\n",
       "      <td>0.0</td>\n",
       "      <td>0.0</td>\n",
       "      <td>1.0</td>\n",
       "      <td>0.0</td>\n",
       "      <td>0.0</td>\n",
       "    </tr>\n",
       "    <tr>\n",
       "      <th>17</th>\n",
       "      <td>23</td>\n",
       "      <td>23.845</td>\n",
       "      <td>0</td>\n",
       "      <td>0.0</td>\n",
       "      <td>1.0</td>\n",
       "      <td>1.0</td>\n",
       "      <td>0.0</td>\n",
       "      <td>1.0</td>\n",
       "      <td>0.0</td>\n",
       "      <td>0.0</td>\n",
       "      <td>0.0</td>\n",
       "    </tr>\n",
       "    <tr>\n",
       "      <th>21</th>\n",
       "      <td>30</td>\n",
       "      <td>32.400</td>\n",
       "      <td>1</td>\n",
       "      <td>1.0</td>\n",
       "      <td>0.0</td>\n",
       "      <td>1.0</td>\n",
       "      <td>0.0</td>\n",
       "      <td>0.0</td>\n",
       "      <td>0.0</td>\n",
       "      <td>0.0</td>\n",
       "      <td>1.0</td>\n",
       "    </tr>\n",
       "    <tr>\n",
       "      <th>24</th>\n",
       "      <td>37</td>\n",
       "      <td>28.025</td>\n",
       "      <td>2</td>\n",
       "      <td>0.0</td>\n",
       "      <td>1.0</td>\n",
       "      <td>1.0</td>\n",
       "      <td>0.0</td>\n",
       "      <td>0.0</td>\n",
       "      <td>1.0</td>\n",
       "      <td>0.0</td>\n",
       "      <td>0.0</td>\n",
       "    </tr>\n",
       "    <tr>\n",
       "      <th>32</th>\n",
       "      <td>19</td>\n",
       "      <td>28.600</td>\n",
       "      <td>5</td>\n",
       "      <td>1.0</td>\n",
       "      <td>0.0</td>\n",
       "      <td>1.0</td>\n",
       "      <td>0.0</td>\n",
       "      <td>0.0</td>\n",
       "      <td>0.0</td>\n",
       "      <td>0.0</td>\n",
       "      <td>1.0</td>\n",
       "    </tr>\n",
       "  </tbody>\n",
       "</table>\n",
       "</div>"
      ],
      "text/plain": [
       "    age     bmi  children  sex_female  sex_male  smoker_no  smoker_yes  \\\n",
       "7    37  27.740         3         1.0       0.0        1.0         0.0   \n",
       "17   23  23.845         0         0.0       1.0        1.0         0.0   \n",
       "21   30  32.400         1         1.0       0.0        1.0         0.0   \n",
       "24   37  28.025         2         0.0       1.0        1.0         0.0   \n",
       "32   19  28.600         5         1.0       0.0        1.0         0.0   \n",
       "\n",
       "    region_northeast  region_northwest  region_southeast  region_southwest  \n",
       "7                0.0               1.0               0.0               0.0  \n",
       "17               1.0               0.0               0.0               0.0  \n",
       "21               0.0               0.0               0.0               1.0  \n",
       "24               0.0               1.0               0.0               0.0  \n",
       "32               0.0               0.0               0.0               1.0  "
      ]
     },
     "execution_count": 328,
     "metadata": {},
     "output_type": "execute_result"
    }
   ],
   "source": [
    "X_test.head()"
   ]
  },
  {
   "cell_type": "code",
   "execution_count": 329,
   "id": "27ed1872",
   "metadata": {},
   "outputs": [
    {
     "data": {
      "text/html": [
       "<div>\n",
       "<style scoped>\n",
       "    .dataframe tbody tr th:only-of-type {\n",
       "        vertical-align: middle;\n",
       "    }\n",
       "\n",
       "    .dataframe tbody tr th {\n",
       "        vertical-align: top;\n",
       "    }\n",
       "\n",
       "    .dataframe thead th {\n",
       "        text-align: right;\n",
       "    }\n",
       "</style>\n",
       "<table border=\"1\" class=\"dataframe\">\n",
       "  <thead>\n",
       "    <tr style=\"text-align: right;\">\n",
       "      <th></th>\n",
       "      <th>age</th>\n",
       "      <th>bmi</th>\n",
       "      <th>children</th>\n",
       "      <th>charges</th>\n",
       "      <th>sex_male</th>\n",
       "      <th>smoker_yes</th>\n",
       "      <th>region_northwest</th>\n",
       "      <th>region_southeast</th>\n",
       "      <th>region_southwest</th>\n",
       "    </tr>\n",
       "  </thead>\n",
       "  <tbody>\n",
       "    <tr>\n",
       "      <th>0</th>\n",
       "      <td>19</td>\n",
       "      <td>27.900</td>\n",
       "      <td>0</td>\n",
       "      <td>16884.92400</td>\n",
       "      <td>0</td>\n",
       "      <td>1</td>\n",
       "      <td>0</td>\n",
       "      <td>0</td>\n",
       "      <td>1</td>\n",
       "    </tr>\n",
       "    <tr>\n",
       "      <th>1</th>\n",
       "      <td>18</td>\n",
       "      <td>33.770</td>\n",
       "      <td>1</td>\n",
       "      <td>1725.55230</td>\n",
       "      <td>1</td>\n",
       "      <td>0</td>\n",
       "      <td>0</td>\n",
       "      <td>1</td>\n",
       "      <td>0</td>\n",
       "    </tr>\n",
       "    <tr>\n",
       "      <th>2</th>\n",
       "      <td>28</td>\n",
       "      <td>33.000</td>\n",
       "      <td>3</td>\n",
       "      <td>4449.46200</td>\n",
       "      <td>1</td>\n",
       "      <td>0</td>\n",
       "      <td>0</td>\n",
       "      <td>1</td>\n",
       "      <td>0</td>\n",
       "    </tr>\n",
       "    <tr>\n",
       "      <th>3</th>\n",
       "      <td>33</td>\n",
       "      <td>22.705</td>\n",
       "      <td>0</td>\n",
       "      <td>21984.47061</td>\n",
       "      <td>1</td>\n",
       "      <td>0</td>\n",
       "      <td>1</td>\n",
       "      <td>0</td>\n",
       "      <td>0</td>\n",
       "    </tr>\n",
       "    <tr>\n",
       "      <th>4</th>\n",
       "      <td>32</td>\n",
       "      <td>28.880</td>\n",
       "      <td>0</td>\n",
       "      <td>3866.85520</td>\n",
       "      <td>1</td>\n",
       "      <td>0</td>\n",
       "      <td>1</td>\n",
       "      <td>0</td>\n",
       "      <td>0</td>\n",
       "    </tr>\n",
       "  </tbody>\n",
       "</table>\n",
       "</div>"
      ],
      "text/plain": [
       "   age     bmi  children      charges  sex_male  smoker_yes  region_northwest  \\\n",
       "0   19  27.900         0  16884.92400         0           1                 0   \n",
       "1   18  33.770         1   1725.55230         1           0                 0   \n",
       "2   28  33.000         3   4449.46200         1           0                 0   \n",
       "3   33  22.705         0  21984.47061         1           0                 1   \n",
       "4   32  28.880         0   3866.85520         1           0                 1   \n",
       "\n",
       "   region_southeast  region_southwest  \n",
       "0                 0                 1  \n",
       "1                 1                 0  \n",
       "2                 1                 0  \n",
       "3                 0                 0  \n",
       "4                 0                 0  "
      ]
     },
     "execution_count": 329,
     "metadata": {},
     "output_type": "execute_result"
    }
   ],
   "source": [
    "data_processed.head()"
   ]
  },
  {
   "cell_type": "markdown",
   "id": "c042c425",
   "metadata": {},
   "source": [
    "## Must normalize numerical data"
   ]
  },
  {
   "cell_type": "code",
   "execution_count": 330,
   "id": "b56a6edf",
   "metadata": {},
   "outputs": [],
   "source": [
    "from sklearn.preprocessing import StandardScaler;"
   ]
  },
  {
   "cell_type": "code",
   "execution_count": 331,
   "id": "f180be89",
   "metadata": {},
   "outputs": [],
   "source": [
    "std_scale = StandardScaler()"
   ]
  },
  {
   "cell_type": "code",
   "execution_count": 332,
   "id": "d3d7b349",
   "metadata": {},
   "outputs": [],
   "source": [
    "if 'charges' in numerical_cols:\n",
    "    numerical_cols.remove('charges') # charges is the target.\n",
    "else:\n",
    "    print('Was removed')"
   ]
  },
  {
   "cell_type": "markdown",
   "id": "4f472417",
   "metadata": {},
   "source": [
    "### Before"
   ]
  },
  {
   "cell_type": "code",
   "execution_count": 333,
   "id": "e3d33749",
   "metadata": {},
   "outputs": [
    {
     "data": {
      "text/plain": [
       "<AxesSubplot:>"
      ]
     },
     "execution_count": 333,
     "metadata": {},
     "output_type": "execute_result"
    },
    {
     "data": {
      "image/png": "[encoded data removed]",
      "text/plain": [
       "<Figure size 432x288 with 1 Axes>"
      ]
     },
     "metadata": {
      "needs_background": "light"
     },
     "output_type": "display_data"
    }
   ],
   "source": [
    "sns.boxplot(data=X_train[numerical_cols])"
   ]
  },
  {
   "cell_type": "code",
   "execution_count": 334,
   "id": "f81ba28d",
   "metadata": {},
   "outputs": [
    {
     "data": {
      "text/plain": [
       "<AxesSubplot:>"
      ]
     },
     "execution_count": 334,
     "metadata": {},
     "output_type": "execute_result"
    },
    {
     "data": {
      "image/png": "[encoded data removed]",
      "text/plain": [
       "<Figure size 432x288 with 1 Axes>"
      ]
     },
     "metadata": {
      "needs_background": "light"
     },
     "output_type": "display_data"
    }
   ],
   "source": [
    "sns.boxplot(data=X_test[numerical_cols])"
   ]
  },
  {
   "cell_type": "code",
   "execution_count": 335,
   "id": "9a717710",
   "metadata": {},
   "outputs": [],
   "source": [
    "X_train.loc[:, numerical_cols] = std_scale.fit_transform(X_train[numerical_cols])\n",
    "X_test.loc[:, numerical_cols] = std_scale.transform(X_test[numerical_cols])"
   ]
  },
  {
   "cell_type": "markdown",
   "id": "b798bc10",
   "metadata": {},
   "source": [
    "### After"
   ]
  },
  {
   "cell_type": "code",
   "execution_count": 336,
   "id": "865c2cba",
   "metadata": {},
   "outputs": [
    {
     "data": {
      "text/plain": [
       "<AxesSubplot:>"
      ]
     },
     "execution_count": 336,
     "metadata": {},
     "output_type": "execute_result"
    },
    {
     "data": {
      "image/png": "[encoded data removed]",
      "text/plain": [
       "<Figure size 432x288 with 1 Axes>"
      ]
     },
     "metadata": {
      "needs_background": "light"
     },
     "output_type": "display_data"
    }
   ],
   "source": [
    "sns.boxplot(data=X_train[numerical_cols])"
   ]
  },
  {
   "cell_type": "code",
   "execution_count": 337,
   "id": "5ec6275e",
   "metadata": {},
   "outputs": [
    {
     "data": {
      "text/plain": [
       "<AxesSubplot:>"
      ]
     },
     "execution_count": 337,
     "metadata": {},
     "output_type": "execute_result"
    },
    {
     "data": {
      "image/png": "[encoded data removed]",
      "text/plain": [
       "<Figure size 432x288 with 1 Axes>"
      ]
     },
     "metadata": {
      "needs_background": "light"
     },
     "output_type": "display_data"
    }
   ],
   "source": [
    "sns.boxplot(data=X_test[numerical_cols])"
   ]
  },
  {
   "cell_type": "markdown",
   "id": "5d09c280",
   "metadata": {},
   "source": [
    "I Could do: X_train[numerical_cols] = (X_train[numerical_cols] - X_train[numerical_cols].mean()) / X_train[numerical_cols].std()"
   ]
  },
  {
   "cell_type": "markdown",
   "id": "6d6b8603",
   "metadata": {},
   "source": [
    "## Building model using Keras"
   ]
  },
  {
   "cell_type": "code",
   "execution_count": 338,
   "id": "5c197003",
   "metadata": {},
   "outputs": [],
   "source": [
    "from tensorflow import keras\n",
    "from tensorflow.keras import layers\n",
    "from tensorflow.keras.callbacks import EarlyStopping "
   ]
  },
  {
   "cell_type": "code",
   "execution_count": 339,
   "id": "31ae8bfc",
   "metadata": {},
   "outputs": [],
   "source": [
    "stop = EarlyStopping(patience=10, min_delta=0.001, restore_best_weights=True)"
   ]
  },
  {
   "cell_type": "code",
   "execution_count": 340,
   "id": "46504b98",
   "metadata": {},
   "outputs": [
    {
     "data": {
      "text/plain": [
       "11"
      ]
     },
     "execution_count": 340,
     "metadata": {},
     "output_type": "execute_result"
    }
   ],
   "source": [
    "X_train.shape[1]"
   ]
  },
  {
   "cell_type": "code",
   "execution_count": 341,
   "id": "dc661d44",
   "metadata": {},
   "outputs": [],
   "source": [
    "model = keras.models.Sequential(\n",
    "    [\n",
    "        layers.Dense(27, activation='relu', input_shape=[X_train.shape[1]]),\n",
    "        layers.Dense(50, activation='relu'),\n",
    "        layers.Dense(50, activation='relu'),\n",
    "        layers.Dense(1), # output layer\n",
    "    ]\n",
    ")"
   ]
  },
  {
   "cell_type": "code",
   "execution_count": 342,
   "id": "220db81c",
   "metadata": {},
   "outputs": [],
   "source": [
    "model.compile(optimizer='adam', loss='mean_squared_error')"
   ]
  },
  {
   "cell_type": "code",
   "execution_count": 343,
   "id": "54f9af82",
   "metadata": {},
   "outputs": [
    {
     "data": {
      "image/png": "[encoded data removed]",
      "text/plain": [
       "<PIL.Image.Image image mode=RGBA size=137x63 at 0x1E8ED1B1040>"
      ]
     },
     "execution_count": 343,
     "metadata": {},
     "output_type": "execute_result"
    }
   ],
   "source": [
    "import visualkeras\n",
    "visualkeras.layered_view(model, legend=True) "
   ]
  },
  {
   "cell_type": "code",
   "execution_count": 344,
   "id": "45ebfcb2",
   "metadata": {},
   "outputs": [
    {
     "name": "stdout",
     "output_type": "stream",
     "text": [
      "Epoch 1/200\n",
      "34/34 [==============================] - 1s 8ms/step - loss: 311395744.0000 - val_loss: 367329536.0000\n",
      "Epoch 2/200\n",
      "34/34 [==============================] - 0s 3ms/step - loss: 311139904.0000 - val_loss: 366729824.0000\n",
      "Epoch 3/200\n",
      "34/34 [==============================] - 0s 4ms/step - loss: 309786464.0000 - val_loss: 363801504.0000\n",
      "Epoch 4/200\n",
      "34/34 [==============================] - 0s 3ms/step - loss: 304697920.0000 - val_loss: 353877952.0000\n",
      "Epoch 5/200\n",
      "34/34 [==============================] - 0s 3ms/step - loss: 289676480.0000 - val_loss: 328599424.0000\n",
      "Epoch 6/200\n",
      "34/34 [==============================] - 0s 3ms/step - loss: 257923328.0000 - val_loss: 280915360.0000\n",
      "Epoch 7/200\n",
      "34/34 [==============================] - 0s 3ms/step - loss: 209565360.0000 - val_loss: 216865584.0000\n",
      "Epoch 8/200\n",
      "34/34 [==============================] - 0s 3ms/step - loss: 159243056.0000 - val_loss: 165369488.0000\n",
      "Epoch 9/200\n",
      "34/34 [==============================] - 0s 3ms/step - loss: 129680144.0000 - val_loss: 137892016.0000\n",
      "Epoch 10/200\n",
      "34/34 [==============================] - 0s 3ms/step - loss: 117857160.0000 - val_loss: 123808592.0000\n",
      "Epoch 11/200\n",
      "34/34 [==============================] - 0s 3ms/step - loss: 109493328.0000 - val_loss: 115631656.0000\n",
      "Epoch 12/200\n",
      "34/34 [==============================] - 0s 3ms/step - loss: 102396512.0000 - val_loss: 107584056.0000\n",
      "Epoch 13/200\n",
      "34/34 [==============================] - 0s 3ms/step - loss: 96175384.0000 - val_loss: 101079176.0000\n",
      "Epoch 14/200\n",
      "34/34 [==============================] - 0s 3ms/step - loss: 89813040.0000 - val_loss: 93686632.0000\n",
      "Epoch 15/200\n",
      "34/34 [==============================] - 0s 3ms/step - loss: 83953520.0000 - val_loss: 87313136.0000\n",
      "Epoch 16/200\n",
      "34/34 [==============================] - 0s 3ms/step - loss: 78244256.0000 - val_loss: 81329072.0000\n",
      "Epoch 17/200\n",
      "34/34 [==============================] - 0s 5ms/step - loss: 72595392.0000 - val_loss: 76200704.0000\n",
      "Epoch 18/200\n",
      "34/34 [==============================] - 0s 3ms/step - loss: 67136320.0000 - val_loss: 69855848.0000\n",
      "Epoch 19/200\n",
      "34/34 [==============================] - 0s 3ms/step - loss: 61861428.0000 - val_loss: 64574012.0000\n",
      "Epoch 20/200\n",
      "34/34 [==============================] - 0s 3ms/step - loss: 56866320.0000 - val_loss: 60072440.0000\n",
      "Epoch 21/200\n",
      "34/34 [==============================] - 0s 3ms/step - loss: 52144920.0000 - val_loss: 55534784.0000\n",
      "Epoch 22/200\n",
      "34/34 [==============================] - 0s 3ms/step - loss: 48001496.0000 - val_loss: 52199224.0000\n",
      "Epoch 23/200\n",
      "34/34 [==============================] - 0s 3ms/step - loss: 44260440.0000 - val_loss: 48792292.0000\n",
      "Epoch 24/200\n",
      "34/34 [==============================] - 0s 3ms/step - loss: 41072652.0000 - val_loss: 46793408.0000\n",
      "Epoch 25/200\n",
      "34/34 [==============================] - 0s 3ms/step - loss: 38610088.0000 - val_loss: 44748136.0000\n",
      "Epoch 26/200\n",
      "34/34 [==============================] - 0s 3ms/step - loss: 36552748.0000 - val_loss: 43647612.0000\n",
      "Epoch 27/200\n",
      "34/34 [==============================] - 0s 3ms/step - loss: 35046356.0000 - val_loss: 42587348.0000\n",
      "Epoch 28/200\n",
      "34/34 [==============================] - 0s 3ms/step - loss: 33970212.0000 - val_loss: 42294856.0000\n",
      "Epoch 29/200\n",
      "34/34 [==============================] - 0s 3ms/step - loss: 33175690.0000 - val_loss: 41874012.0000\n",
      "Epoch 30/200\n",
      "34/34 [==============================] - 0s 3ms/step - loss: 32573114.0000 - val_loss: 41496204.0000\n",
      "Epoch 31/200\n",
      "34/34 [==============================] - 0s 3ms/step - loss: 32151128.0000 - val_loss: 41507048.0000\n",
      "Epoch 32/200\n",
      "34/34 [==============================] - 0s 3ms/step - loss: 31787342.0000 - val_loss: 41060868.0000\n",
      "Epoch 33/200\n",
      "34/34 [==============================] - 0s 3ms/step - loss: 31583862.0000 - val_loss: 40953080.0000\n",
      "Epoch 34/200\n",
      "34/34 [==============================] - 0s 3ms/step - loss: 31232098.0000 - val_loss: 41032772.0000\n",
      "Epoch 35/200\n",
      "34/34 [==============================] - 0s 3ms/step - loss: 31083834.0000 - val_loss: 40745220.0000\n",
      "Epoch 36/200\n",
      "34/34 [==============================] - 0s 3ms/step - loss: 30808360.0000 - val_loss: 40929956.0000\n",
      "Epoch 37/200\n",
      "34/34 [==============================] - 0s 3ms/step - loss: 30563926.0000 - val_loss: 40590088.0000\n",
      "Epoch 38/200\n",
      "34/34 [==============================] - 0s 3ms/step - loss: 30386690.0000 - val_loss: 40456004.0000\n",
      "Epoch 39/200\n",
      "34/34 [==============================] - 0s 3ms/step - loss: 30222514.0000 - val_loss: 40186704.0000\n",
      "Epoch 40/200\n",
      "34/34 [==============================] - 0s 3ms/step - loss: 29947636.0000 - val_loss: 40081332.0000\n",
      "Epoch 41/200\n",
      "34/34 [==============================] - 0s 3ms/step - loss: 29774132.0000 - val_loss: 40055252.0000\n",
      "Epoch 42/200\n",
      "34/34 [==============================] - 0s 7ms/step - loss: 29695072.0000 - val_loss: 40020796.0000\n",
      "Epoch 43/200\n",
      "34/34 [==============================] - 0s 5ms/step - loss: 29411742.0000 - val_loss: 39769488.0000\n",
      "Epoch 44/200\n",
      "34/34 [==============================] - 0s 3ms/step - loss: 29225872.0000 - val_loss: 39325048.0000\n",
      "Epoch 45/200\n",
      "34/34 [==============================] - 0s 3ms/step - loss: 29061244.0000 - val_loss: 39475660.0000\n",
      "Epoch 46/200\n",
      "34/34 [==============================] - 0s 3ms/step - loss: 28832308.0000 - val_loss: 39081800.0000\n",
      "Epoch 47/200\n",
      "34/34 [==============================] - 0s 4ms/step - loss: 28699622.0000 - val_loss: 38994036.0000\n",
      "Epoch 48/200\n",
      "34/34 [==============================] - ETA: 0s - loss: 29335936.00 - 0s 3ms/step - loss: 28566392.0000 - val_loss: 38884244.0000\n",
      "Epoch 49/200\n",
      "34/34 [==============================] - 0s 3ms/step - loss: 28319386.0000 - val_loss: 38582776.0000\n",
      "Epoch 50/200\n",
      "34/34 [==============================] - 0s 2ms/step - loss: 28171064.0000 - val_loss: 38368400.0000\n",
      "Epoch 51/200\n",
      "34/34 [==============================] - 0s 2ms/step - loss: 27966002.0000 - val_loss: 38241492.0000\n",
      "Epoch 52/200\n",
      "34/34 [==============================] - 0s 3ms/step - loss: 27798284.0000 - val_loss: 38066908.0000\n",
      "Epoch 53/200\n",
      "34/34 [==============================] - 0s 2ms/step - loss: 27612868.0000 - val_loss: 37880196.0000\n",
      "Epoch 54/200\n",
      "34/34 [==============================] - 0s 2ms/step - loss: 27503016.0000 - val_loss: 37577128.0000\n",
      "Epoch 55/200\n",
      "34/34 [==============================] - 0s 2ms/step - loss: 27291244.0000 - val_loss: 37384340.0000\n",
      "Epoch 56/200\n",
      "34/34 [==============================] - 0s 2ms/step - loss: 27110976.0000 - val_loss: 37371592.0000\n",
      "Epoch 57/200\n",
      "34/34 [==============================] - 0s 2ms/step - loss: 26932490.0000 - val_loss: 37206168.0000\n",
      "Epoch 58/200\n",
      "34/34 [==============================] - 0s 2ms/step - loss: 26750322.0000 - val_loss: 37060792.0000\n",
      "Epoch 59/200\n",
      "34/34 [==============================] - 0s 2ms/step - loss: 26562198.0000 - val_loss: 36711880.0000\n",
      "Epoch 60/200\n",
      "34/34 [==============================] - 0s 6ms/step - loss: 26429442.0000 - val_loss: 36584264.0000\n",
      "Epoch 61/200\n",
      "34/34 [==============================] - 0s 4ms/step - loss: 26258840.0000 - val_loss: 36300296.0000\n",
      "Epoch 62/200\n",
      "34/34 [==============================] - 0s 3ms/step - loss: 26096134.0000 - val_loss: 36116180.0000\n",
      "Epoch 63/200\n",
      "34/34 [==============================] - 0s 3ms/step - loss: 25927824.0000 - val_loss: 35969440.0000\n",
      "Epoch 64/200\n",
      "34/34 [==============================] - 0s 5ms/step - loss: 25773582.0000 - val_loss: 35871128.0000\n",
      "Epoch 65/200\n",
      "34/34 [==============================] - 0s 5ms/step - loss: 25673034.0000 - val_loss: 35652208.0000\n",
      "Epoch 66/200\n",
      "34/34 [==============================] - 0s 4ms/step - loss: 25549440.0000 - val_loss: 35511608.0000\n",
      "Epoch 67/200\n",
      "34/34 [==============================] - 0s 4ms/step - loss: 25370772.0000 - val_loss: 35313976.0000\n",
      "Epoch 68/200\n",
      "34/34 [==============================] - 0s 4ms/step - loss: 25247258.0000 - val_loss: 35125380.0000\n",
      "Epoch 69/200\n",
      "34/34 [==============================] - 0s 8ms/step - loss: 25135712.0000 - val_loss: 34900468.0000\n",
      "Epoch 70/200\n",
      "34/34 [==============================] - 0s 7ms/step - loss: 24992976.0000 - val_loss: 34908772.0000\n",
      "Epoch 71/200\n",
      "34/34 [==============================] - 0s 7ms/step - loss: 24863444.0000 - val_loss: 34682320.0000\n",
      "Epoch 72/200\n"
     ]
    },
    {
     "name": "stdout",
     "output_type": "stream",
     "text": [
      "34/34 [==============================] - 0s 7ms/step - loss: 24677116.0000 - val_loss: 34623660.0000\n",
      "Epoch 73/200\n",
      "34/34 [==============================] - 0s 7ms/step - loss: 24552010.0000 - val_loss: 34321372.0000\n",
      "Epoch 74/200\n",
      "34/34 [==============================] - 0s 6ms/step - loss: 24388140.0000 - val_loss: 34216172.0000\n",
      "Epoch 75/200\n",
      "34/34 [==============================] - 0s 5ms/step - loss: 24343088.0000 - val_loss: 34055364.0000\n",
      "Epoch 76/200\n",
      "34/34 [==============================] - 0s 6ms/step - loss: 24163926.0000 - val_loss: 33971032.0000\n",
      "Epoch 77/200\n",
      "34/34 [==============================] - 0s 6ms/step - loss: 24100268.0000 - val_loss: 33758152.0000\n",
      "Epoch 78/200\n",
      "34/34 [==============================] - 0s 6ms/step - loss: 23991548.0000 - val_loss: 33736976.0000\n",
      "Epoch 79/200\n",
      "34/34 [==============================] - 0s 6ms/step - loss: 23828834.0000 - val_loss: 33682832.0000\n",
      "Epoch 80/200\n",
      "34/34 [==============================] - 0s 4ms/step - loss: 23797058.0000 - val_loss: 33595340.0000\n",
      "Epoch 81/200\n",
      "34/34 [==============================] - 0s 5ms/step - loss: 23647760.0000 - val_loss: 33371790.0000\n",
      "Epoch 82/200\n",
      "34/34 [==============================] - 0s 6ms/step - loss: 23516030.0000 - val_loss: 33245268.0000\n",
      "Epoch 83/200\n",
      "34/34 [==============================] - 0s 8ms/step - loss: 23474456.0000 - val_loss: 33057078.0000\n",
      "Epoch 84/200\n",
      "34/34 [==============================] - 0s 7ms/step - loss: 23358298.0000 - val_loss: 33046422.0000\n",
      "Epoch 85/200\n",
      "34/34 [==============================] - 0s 4ms/step - loss: 23226830.0000 - val_loss: 32995282.0000\n",
      "Epoch 86/200\n",
      "34/34 [==============================] - 0s 5ms/step - loss: 23167406.0000 - val_loss: 32744578.0000\n",
      "Epoch 87/200\n",
      "34/34 [==============================] - 0s 4ms/step - loss: 23064656.0000 - val_loss: 32817828.0000\n",
      "Epoch 88/200\n",
      "34/34 [==============================] - 0s 5ms/step - loss: 23006164.0000 - val_loss: 32643610.0000\n",
      "Epoch 89/200\n",
      "34/34 [==============================] - 0s 4ms/step - loss: 22909212.0000 - val_loss: 32516336.0000\n",
      "Epoch 90/200\n",
      "34/34 [==============================] - 0s 3ms/step - loss: 22824700.0000 - val_loss: 32406558.0000\n",
      "Epoch 91/200\n",
      "34/34 [==============================] - 0s 5ms/step - loss: 22737084.0000 - val_loss: 32355492.0000\n",
      "Epoch 92/200\n",
      "34/34 [==============================] - 0s 6ms/step - loss: 22696172.0000 - val_loss: 32142664.0000\n",
      "Epoch 93/200\n",
      "34/34 [==============================] - 0s 5ms/step - loss: 22678218.0000 - val_loss: 32289460.0000\n",
      "Epoch 94/200\n",
      "34/34 [==============================] - 0s 4ms/step - loss: 22581548.0000 - val_loss: 32070870.0000\n",
      "Epoch 95/200\n",
      "34/34 [==============================] - 0s 3ms/step - loss: 22458860.0000 - val_loss: 32088668.0000\n",
      "Epoch 96/200\n",
      "34/34 [==============================] - 0s 3ms/step - loss: 22400042.0000 - val_loss: 31830088.0000\n",
      "Epoch 97/200\n",
      "34/34 [==============================] - 0s 3ms/step - loss: 22390718.0000 - val_loss: 31828410.0000\n",
      "Epoch 98/200\n",
      "34/34 [==============================] - 0s 4ms/step - loss: 22268792.0000 - val_loss: 31899438.0000\n",
      "Epoch 99/200\n",
      "34/34 [==============================] - 0s 2ms/step - loss: 22221676.0000 - val_loss: 31500960.0000\n",
      "Epoch 100/200\n",
      "34/34 [==============================] - 0s 4ms/step - loss: 22184100.0000 - val_loss: 31590872.0000\n",
      "Epoch 101/200\n",
      "34/34 [==============================] - 0s 3ms/step - loss: 22126438.0000 - val_loss: 31607732.0000\n",
      "Epoch 102/200\n",
      "34/34 [==============================] - 0s 4ms/step - loss: 22043198.0000 - val_loss: 31480992.0000\n",
      "Epoch 103/200\n",
      "34/34 [==============================] - 0s 3ms/step - loss: 22031916.0000 - val_loss: 31321770.0000\n",
      "Epoch 104/200\n",
      "34/34 [==============================] - 0s 4ms/step - loss: 21957606.0000 - val_loss: 31265810.0000\n",
      "Epoch 105/200\n",
      "34/34 [==============================] - 0s 2ms/step - loss: 21962126.0000 - val_loss: 31370038.0000\n",
      "Epoch 106/200\n",
      "34/34 [==============================] - 0s 3ms/step - loss: 21888880.0000 - val_loss: 31226396.0000\n",
      "Epoch 107/200\n",
      "34/34 [==============================] - 0s 2ms/step - loss: 21823996.0000 - val_loss: 31342484.0000\n",
      "Epoch 108/200\n",
      "34/34 [==============================] - 0s 3ms/step - loss: 21821594.0000 - val_loss: 31106630.0000\n",
      "Epoch 109/200\n",
      "34/34 [==============================] - 0s 3ms/step - loss: 21781654.0000 - val_loss: 31122128.0000\n",
      "Epoch 110/200\n",
      "34/34 [==============================] - 0s 3ms/step - loss: 21777162.0000 - val_loss: 31075622.0000\n",
      "Epoch 111/200\n",
      "34/34 [==============================] - 0s 4ms/step - loss: 21738220.0000 - val_loss: 31038228.0000\n",
      "Epoch 112/200\n",
      "34/34 [==============================] - 0s 3ms/step - loss: 21761104.0000 - val_loss: 31236328.0000\n",
      "Epoch 113/200\n",
      "34/34 [==============================] - 0s 3ms/step - loss: 21738830.0000 - val_loss: 30841364.0000\n",
      "Epoch 114/200\n",
      "34/34 [==============================] - 0s 5ms/step - loss: 21631624.0000 - val_loss: 30957966.0000\n",
      "Epoch 115/200\n",
      "34/34 [==============================] - 0s 5ms/step - loss: 21665164.0000 - val_loss: 30885378.0000\n",
      "Epoch 116/200\n",
      "34/34 [==============================] - 0s 6ms/step - loss: 21589696.0000 - val_loss: 30689258.0000\n",
      "Epoch 117/200\n",
      "34/34 [==============================] - 0s 8ms/step - loss: 21514648.0000 - val_loss: 30850656.0000\n",
      "Epoch 118/200\n",
      "34/34 [==============================] - 0s 6ms/step - loss: 21500986.0000 - val_loss: 30811734.0000\n",
      "Epoch 119/200\n",
      "34/34 [==============================] - 0s 6ms/step - loss: 21493644.0000 - val_loss: 30648410.0000\n",
      "Epoch 120/200\n",
      "34/34 [==============================] - 0s 5ms/step - loss: 21447310.0000 - val_loss: 30568876.0000\n",
      "Epoch 121/200\n",
      "34/34 [==============================] - 0s 5ms/step - loss: 21460250.0000 - val_loss: 30708500.0000\n",
      "Epoch 122/200\n",
      "34/34 [==============================] - 0s 5ms/step - loss: 21380964.0000 - val_loss: 30720514.0000\n",
      "Epoch 123/200\n",
      "34/34 [==============================] - 0s 5ms/step - loss: 21450908.0000 - val_loss: 30564630.0000\n",
      "Epoch 124/200\n",
      "34/34 [==============================] - 0s 5ms/step - loss: 21325036.0000 - val_loss: 30562362.0000\n",
      "Epoch 125/200\n",
      "34/34 [==============================] - 0s 5ms/step - loss: 21360738.0000 - val_loss: 30568302.0000\n",
      "Epoch 126/200\n",
      "34/34 [==============================] - 0s 3ms/step - loss: 21301012.0000 - val_loss: 30378778.0000\n",
      "Epoch 127/200\n",
      "34/34 [==============================] - 0s 4ms/step - loss: 21300732.0000 - val_loss: 30460618.0000\n",
      "Epoch 128/200\n",
      "34/34 [==============================] - 0s 4ms/step - loss: 21259500.0000 - val_loss: 30351594.0000\n",
      "Epoch 129/200\n",
      "34/34 [==============================] - 0s 3ms/step - loss: 21285358.0000 - val_loss: 30476398.0000\n",
      "Epoch 130/200\n",
      "34/34 [==============================] - 0s 3ms/step - loss: 21230084.0000 - val_loss: 30301688.0000\n",
      "Epoch 131/200\n",
      "34/34 [==============================] - 0s 3ms/step - loss: 21214976.0000 - val_loss: 30379206.0000\n",
      "Epoch 132/200\n",
      "34/34 [==============================] - 0s 3ms/step - loss: 21226772.0000 - val_loss: 30389312.0000\n",
      "Epoch 133/200\n",
      "34/34 [==============================] - 0s 3ms/step - loss: 21196304.0000 - val_loss: 30202038.0000\n",
      "Epoch 134/200\n",
      "34/34 [==============================] - 0s 4ms/step - loss: 21159816.0000 - val_loss: 30409724.0000\n",
      "Epoch 135/200\n",
      "34/34 [==============================] - 0s 3ms/step - loss: 21180138.0000 - val_loss: 30205298.0000\n",
      "Epoch 136/200\n",
      "34/34 [==============================] - 0s 3ms/step - loss: 21117276.0000 - val_loss: 30228338.0000\n",
      "Epoch 137/200\n",
      "34/34 [==============================] - 0s 3ms/step - loss: 21108952.0000 - val_loss: 30256400.0000\n",
      "Epoch 138/200\n",
      "34/34 [==============================] - 0s 3ms/step - loss: 21128612.0000 - val_loss: 30320224.0000\n",
      "Epoch 139/200\n",
      "34/34 [==============================] - 0s 3ms/step - loss: 21116836.0000 - val_loss: 30195278.0000\n",
      "Epoch 140/200\n",
      "34/34 [==============================] - 0s 2ms/step - loss: 21083566.0000 - val_loss: 30147608.0000\n",
      "Epoch 141/200\n",
      "34/34 [==============================] - 0s 2ms/step - loss: 21055174.0000 - val_loss: 30158712.0000\n",
      "Epoch 142/200\n",
      "34/34 [==============================] - 0s 2ms/step - loss: 21091802.0000 - val_loss: 30337754.0000\n",
      "Epoch 143/200\n"
     ]
    },
    {
     "name": "stdout",
     "output_type": "stream",
     "text": [
      "34/34 [==============================] - 0s 3ms/step - loss: 21035734.0000 - val_loss: 29982148.0000\n",
      "Epoch 144/200\n",
      "34/34 [==============================] - 0s 3ms/step - loss: 21057482.0000 - val_loss: 30148862.0000\n",
      "Epoch 145/200\n",
      "34/34 [==============================] - 0s 3ms/step - loss: 21024834.0000 - val_loss: 30119110.0000\n",
      "Epoch 146/200\n",
      "34/34 [==============================] - 0s 3ms/step - loss: 21020986.0000 - val_loss: 30148174.0000\n",
      "Epoch 147/200\n",
      "34/34 [==============================] - 0s 3ms/step - loss: 20996762.0000 - val_loss: 30038146.0000\n",
      "Epoch 148/200\n",
      "34/34 [==============================] - 0s 2ms/step - loss: 21010214.0000 - val_loss: 30133778.0000\n",
      "Epoch 149/200\n",
      "34/34 [==============================] - 0s 2ms/step - loss: 21078902.0000 - val_loss: 30157480.0000\n",
      "Epoch 150/200\n",
      "34/34 [==============================] - 0s 2ms/step - loss: 20977998.0000 - val_loss: 30087018.0000\n",
      "Epoch 151/200\n",
      "34/34 [==============================] - 0s 2ms/step - loss: 20972084.0000 - val_loss: 30039124.0000\n",
      "Epoch 152/200\n",
      "34/34 [==============================] - 0s 2ms/step - loss: 20995884.0000 - val_loss: 30200176.0000\n",
      "Epoch 153/200\n",
      "34/34 [==============================] - 0s 2ms/step - loss: 21001210.0000 - val_loss: 29996908.0000\n"
     ]
    }
   ],
   "source": [
    "history = model.fit(x=X_train, y=y_train, validation_data=(X_test, y_test), epochs=200, verbose=True, callbacks=[stop])"
   ]
  },
  {
   "cell_type": "code",
   "execution_count": 345,
   "id": "b6b1ba48",
   "metadata": {},
   "outputs": [],
   "source": [
    "import matplotlib.pyplot as plt"
   ]
  },
  {
   "cell_type": "code",
   "execution_count": 346,
   "id": "b2990eeb",
   "metadata": {},
   "outputs": [
    {
     "data": {
      "image/png": "[encoded data removed]",
      "text/plain": [
       "<Figure size 432x288 with 1 Axes>"
      ]
     },
     "metadata": {
      "needs_background": "light"
     },
     "output_type": "display_data"
    }
   ],
   "source": [
    "plt.plot(history.history['loss'])\n",
    "plt.plot(history.history['val_loss'])\n",
    "plt.title('Model perfomance')\n",
    "plt.ylabel('loss')\n",
    "plt.xlabel('epochs')\n",
    "plt.legend(['training', 'validation'], loc='upper left')\n",
    "plt.show()"
   ]
  },
  {
   "cell_type": "code",
   "execution_count": 347,
   "id": "2da0600c",
   "metadata": {},
   "outputs": [],
   "source": [
    "pred = model.predict(X_test)"
   ]
  },
  {
   "cell_type": "code",
   "execution_count": 348,
   "id": "196db725",
   "metadata": {},
   "outputs": [],
   "source": [
    "from sklearn.metrics import r2_score, mean_squared_error\n",
    "import numpy as np"
   ]
  },
  {
   "cell_type": "code",
   "execution_count": 349,
   "id": "94ed9b27",
   "metadata": {},
   "outputs": [
    {
     "name": "stdout",
     "output_type": "stream",
     "text": [
      "R2: 0.8144821453030233\n"
     ]
    }
   ],
   "source": [
    "print('R2: {}'.format(r2_score(y_test, pred)))"
   ]
  },
  {
   "cell_type": "code",
   "execution_count": 350,
   "id": "8f53b3ce",
   "metadata": {},
   "outputs": [
    {
     "name": "stdout",
     "output_type": "stream",
     "text": [
      "RMSE: 5475.595855834883\n"
     ]
    }
   ],
   "source": [
    "print('RMSE: {}'.format(np.sqrt(mean_squared_error(y_test, pred))))"
   ]
  }
 ],
 "metadata": {
  "kernelspec": {
   "display_name": "Python 3 (ipykernel)",
   "language": "python",
   "name": "python3"
  },
  "language_info": {
   "codemirror_mode": {
    "name": "ipython",
    "version": 3
   },
   "file_extension": ".py",
   "mimetype": "text/x-python",
   "name": "python",
   "nbconvert_exporter": "python",
   "pygments_lexer": "ipython3",
   "version": "3.9.7"
  }
 },
 "nbformat": 4,
 "nbformat_minor": 5
}
